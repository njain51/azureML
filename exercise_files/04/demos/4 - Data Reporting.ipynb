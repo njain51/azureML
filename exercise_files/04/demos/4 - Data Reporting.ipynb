{
 "cells": [
  {
   "cell_type": "markdown",
   "metadata": {},
   "source": [
    "# 4 - Data Analysis & Reporting with IDEAR\n",
    "\n",
    "In this notebook you will leverage the IDEAR (Interactive Data Exploratory Analysis and Reporting) tool that is included as a part of the [TDSP utilities](https://github.com/Azure/Azure-TDSP-Utilities/) that we reviewed in a previous module.  This utility runs within a Jupyter notebook that we download and run."
   ]
  },
  {
   "cell_type": "markdown",
   "metadata": {},
   "source": [
    "## Downloading IDEAR Assets\n",
    "\n",
    "As mentioned, we will need to download some assets to test the capabilities of the IDEAR tool: the data, and the IDEAR notebook itself.\n",
    "\n",
    "### Downloading Sample Data\n",
    "\n",
    "Next, we need to download some sample data.  Our MNIST data set won't work for this kind of analysis and reporting, so we will need to leverage another data set.  Microsoft includes a few sample data sets within the [TDSP Utilities Git repository on Github](https://github.com/Azure/Azure-TDSP-Utilities/).\n",
    "\n",
    "The data set we will leverage is the [UCI Census Income data set](https://archive.ics.uci.edu/ml/datasets/Census+Income). We will download this onto the Jupyter server and then store it in our blob storage account for the workspace:"
   ]
  },
  {
   "cell_type": "code",
   "execution_count": null,
   "metadata": {},
   "outputs": [],
   "source": [
    "import urllib.request\n",
    "import azureml.core\n",
    "from azureml.core import Workspace, Datastore\n",
    "\n",
    "# Get a reference to the workspace\n",
    "ws = Workspace.from_config()\n",
    "\n",
    "# Get a reference to the Datastore - blob storage for the workspace\n",
    "datastore = Datastore.get(ws, datastore_name='workspaceblobstore')\n",
    "\n",
    "# Create a new data directory for this data\n",
    "data_folder = os.path.join(os.getcwd(), 'idear-data')\n",
    "os.makedirs(data_folder, exist_ok=True)\n",
    "\n",
    "# Download this content onto the Jupyter notebook server\n",
    "data_url = 'https://raw.githubusercontent.com/Azure/Azure-TDSP-Utilities/master/DataScienceUtilities/DataReport-Utils/Python/adult-income.csv'\n",
    "urllib.request.urlretrieve(data_url, f'{data_folder}/adult-income.csv')\n",
    "data_description_url = 'https://raw.githubusercontent.com/Azure/Azure-TDSP-Utilities/master/DataScienceUtilities/DataReport-Utils/Python/para-adult.yaml'\n",
    "urllib.request.urlretrieve(data_description_url, f'{data_folder}/para-adult.yaml')\n",
    "\n",
    "# Upload this into blob storage\n",
    "datastore.upload(src_dir=data_folder,\n",
    "                 overwrite=True,\n",
    "                 show_progress=True)"
   ]
  },
  {
   "cell_type": "markdown",
   "metadata": {},
   "source": [
    "### Downloading IDEAR Notebook\n",
    "\n",
    "Next, we need to downlaod the IDEAR notebook, which is provided in the TDSP Utilities.  This notebook includes the needed code to run the analysis against your data set.  There are two versions of the notebook that are included: one that is [designed to be run within Azure notebooks](https://github.com/Azure/Azure-TDSP-Utilities/blob/master/DataScienceUtilities/DataReport-Utils/Python/IDEAR-Python-AzureNotebooks.ipynb), and [one that can be used anywhere](https://github.com/Azure/Azure-TDSP-Utilities/blob/master/DataScienceUtilities/DataReport-Utils/Python/IDEAR.ipynb) (but which requires additional setup). \n",
    "\n",
    "We will be leveraging the one that is designed for Azure Notebooks.  You can download this onto your Jupyter server using the code below:"
   ]
  },
  {
   "cell_type": "code",
   "execution_count": null,
   "metadata": {},
   "outputs": [],
   "source": [
    "idear_url = 'https://raw.githubusercontent.com/Azure/Azure-TDSP-Utilities/master/DataScienceUtilities/DataReport-Utils/Python/IDEAR-Python-AzureNotebooks.ipynb'\n",
    "urllib.request.urlretrieve(idear_url, './IDEAR.ipynb')\n"
   ]
  },
  {
   "cell_type": "markdown",
   "metadata": {},
   "source": [
    "## Running the IDEAR Notebook\n",
    "\n",
    "The next step is to switch over the `IDEAR.ipynb` notebook that we downloaded.  Once you load the notebook, clear all output and run the cells.  You will need a few pieces of information:\n",
    "\n",
    "* Azure Storage Account Name\n",
    "* Azure Storage Account Key\n",
    "* Container Name"
   ]
  },
  {
   "cell_type": "code",
   "execution_count": null,
   "metadata": {},
   "outputs": [],
   "source": []
  }
 ],
 "metadata": {
  "kernelspec": {
   "display_name": "Python 3.6 - AzureML",
   "language": "python",
   "name": "python3-azureml"
  },
  "language_info": {
   "codemirror_mode": {
    "name": "ipython",
    "version": 3
   },
   "file_extension": ".py",
   "mimetype": "text/x-python",
   "name": "python",
   "nbconvert_exporter": "python",
   "pygments_lexer": "ipython3",
   "version": "3.6.9"
  }
 },
 "nbformat": 4,
 "nbformat_minor": 2
}
